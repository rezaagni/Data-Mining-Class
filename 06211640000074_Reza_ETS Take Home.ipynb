{
 "cells": [
  {
   "cell_type": "markdown",
   "metadata": {},
   "source": [
    "# ETS Take Home"
   ]
  },
  {
   "cell_type": "code",
   "execution_count": 14,
   "metadata": {},
   "outputs": [],
   "source": [
    "import pandas as pd\n",
    "import numpy as np\n",
    "import matplotlib.pyplot as plt\n",
    "%matplotlib inline"
   ]
  },
  {
   "cell_type": "code",
   "execution_count": 18,
   "metadata": {},
   "outputs": [
    {
     "data": {
      "text/html": [
       "<div>\n",
       "<style scoped>\n",
       "    .dataframe tbody tr th:only-of-type {\n",
       "        vertical-align: middle;\n",
       "    }\n",
       "\n",
       "    .dataframe tbody tr th {\n",
       "        vertical-align: top;\n",
       "    }\n",
       "\n",
       "    .dataframe thead th {\n",
       "        text-align: right;\n",
       "    }\n",
       "</style>\n",
       "<table border=\"1\" class=\"dataframe\">\n",
       "  <thead>\n",
       "    <tr style=\"text-align: right;\">\n",
       "      <th></th>\n",
       "      <th>InvoiceNo</th>\n",
       "      <th>StockCode</th>\n",
       "      <th>Description</th>\n",
       "      <th>Quantity</th>\n",
       "      <th>InvoiceDate</th>\n",
       "      <th>UnitPrice</th>\n",
       "      <th>CustomerID</th>\n",
       "      <th>Country</th>\n",
       "    </tr>\n",
       "  </thead>\n",
       "  <tbody>\n",
       "    <tr>\n",
       "      <th>0</th>\n",
       "      <td>536365</td>\n",
       "      <td>85123A</td>\n",
       "      <td>WHITE HANGING HEART T-LIGHT HOLDER</td>\n",
       "      <td>6</td>\n",
       "      <td>2010-12-01 08:26:00</td>\n",
       "      <td>2.55</td>\n",
       "      <td>17850.0</td>\n",
       "      <td>United Kingdom</td>\n",
       "    </tr>\n",
       "    <tr>\n",
       "      <th>1</th>\n",
       "      <td>536365</td>\n",
       "      <td>71053</td>\n",
       "      <td>WHITE METAL LANTERN</td>\n",
       "      <td>6</td>\n",
       "      <td>2010-12-01 08:26:00</td>\n",
       "      <td>3.39</td>\n",
       "      <td>17850.0</td>\n",
       "      <td>United Kingdom</td>\n",
       "    </tr>\n",
       "    <tr>\n",
       "      <th>2</th>\n",
       "      <td>536365</td>\n",
       "      <td>84406B</td>\n",
       "      <td>CREAM CUPID HEARTS COAT HANGER</td>\n",
       "      <td>8</td>\n",
       "      <td>2010-12-01 08:26:00</td>\n",
       "      <td>2.75</td>\n",
       "      <td>17850.0</td>\n",
       "      <td>United Kingdom</td>\n",
       "    </tr>\n",
       "    <tr>\n",
       "      <th>3</th>\n",
       "      <td>536365</td>\n",
       "      <td>84029G</td>\n",
       "      <td>KNITTED UNION FLAG HOT WATER BOTTLE</td>\n",
       "      <td>6</td>\n",
       "      <td>2010-12-01 08:26:00</td>\n",
       "      <td>3.39</td>\n",
       "      <td>17850.0</td>\n",
       "      <td>United Kingdom</td>\n",
       "    </tr>\n",
       "    <tr>\n",
       "      <th>4</th>\n",
       "      <td>536365</td>\n",
       "      <td>84029E</td>\n",
       "      <td>RED WOOLLY HOTTIE WHITE HEART.</td>\n",
       "      <td>6</td>\n",
       "      <td>2010-12-01 08:26:00</td>\n",
       "      <td>3.39</td>\n",
       "      <td>17850.0</td>\n",
       "      <td>United Kingdom</td>\n",
       "    </tr>\n",
       "  </tbody>\n",
       "</table>\n",
       "</div>"
      ],
      "text/plain": [
       "  InvoiceNo StockCode                          Description  Quantity  \\\n",
       "0    536365    85123A   WHITE HANGING HEART T-LIGHT HOLDER         6   \n",
       "1    536365     71053                  WHITE METAL LANTERN         6   \n",
       "2    536365    84406B       CREAM CUPID HEARTS COAT HANGER         8   \n",
       "3    536365    84029G  KNITTED UNION FLAG HOT WATER BOTTLE         6   \n",
       "4    536365    84029E       RED WOOLLY HOTTIE WHITE HEART.         6   \n",
       "\n",
       "          InvoiceDate  UnitPrice  CustomerID         Country  \n",
       "0 2010-12-01 08:26:00       2.55     17850.0  United Kingdom  \n",
       "1 2010-12-01 08:26:00       3.39     17850.0  United Kingdom  \n",
       "2 2010-12-01 08:26:00       2.75     17850.0  United Kingdom  \n",
       "3 2010-12-01 08:26:00       3.39     17850.0  United Kingdom  \n",
       "4 2010-12-01 08:26:00       3.39     17850.0  United Kingdom  "
      ]
     },
     "execution_count": 18,
     "metadata": {},
     "output_type": "execute_result"
    }
   ],
   "source": [
    "#import dataset\n",
    "data=pd.read_excel('online_retail.xlsx')\n",
    "data.head(5)"
   ]
  },
  {
   "cell_type": "markdown",
   "metadata": {},
   "source": [
    "## Missing Value"
   ]
  },
  {
   "cell_type": "code",
   "execution_count": 19,
   "metadata": {},
   "outputs": [
    {
     "name": "stdout",
     "output_type": "stream",
     "text": [
      "<class 'pandas.core.frame.DataFrame'>\n",
      "RangeIndex: 541909 entries, 0 to 541908\n",
      "Data columns (total 8 columns):\n",
      "InvoiceNo      541909 non-null object\n",
      "StockCode      541909 non-null object\n",
      "Description    540455 non-null object\n",
      "Quantity       541909 non-null int64\n",
      "InvoiceDate    541909 non-null datetime64[ns]\n",
      "UnitPrice      541909 non-null float64\n",
      "CustomerID     406829 non-null float64\n",
      "Country        541909 non-null object\n",
      "dtypes: datetime64[ns](1), float64(2), int64(1), object(4)\n",
      "memory usage: 33.1+ MB\n"
     ]
    }
   ],
   "source": [
    "data.info()"
   ]
  },
  {
   "cell_type": "code",
   "execution_count": 20,
   "metadata": {},
   "outputs": [
    {
     "data": {
      "text/plain": [
       "InvoiceNo           0\n",
       "StockCode           0\n",
       "Description      1454\n",
       "Quantity            0\n",
       "InvoiceDate         0\n",
       "UnitPrice           0\n",
       "CustomerID     135080\n",
       "Country             0\n",
       "dtype: int64"
      ]
     },
     "execution_count": 20,
     "metadata": {},
     "output_type": "execute_result"
    }
   ],
   "source": [
    "data.isnull().sum()"
   ]
  },
  {
   "cell_type": "code",
   "execution_count": 22,
   "metadata": {},
   "outputs": [],
   "source": [
    "datanew=data.dropna(subset=['Description'])"
   ]
  },
  {
   "cell_type": "code",
   "execution_count": 24,
   "metadata": {},
   "outputs": [
    {
     "data": {
      "text/plain": [
       "InvoiceNo           0\n",
       "StockCode           0\n",
       "Description         0\n",
       "Quantity            0\n",
       "InvoiceDate         0\n",
       "UnitPrice           0\n",
       "CustomerID     133626\n",
       "Country             0\n",
       "dtype: int64"
      ]
     },
     "execution_count": 24,
     "metadata": {},
     "output_type": "execute_result"
    }
   ],
   "source": [
    "np.sum(datanew.isnull())"
   ]
  },
  {
   "cell_type": "code",
   "execution_count": 25,
   "metadata": {},
   "outputs": [
    {
     "data": {
      "text/plain": [
       "(540455, 8)"
      ]
     },
     "execution_count": 25,
     "metadata": {},
     "output_type": "execute_result"
    }
   ],
   "source": [
    "datanew.shape"
   ]
  },
  {
   "cell_type": "code",
   "execution_count": 27,
   "metadata": {
    "scrolled": true
   },
   "outputs": [
    {
     "name": "stdout",
     "output_type": "stream",
     "text": [
      "<class 'pandas.core.frame.DataFrame'>\n",
      "Int64Index: 540455 entries, 0 to 541908\n",
      "Data columns (total 8 columns):\n",
      "InvoiceNo      540455 non-null object\n",
      "StockCode      540455 non-null object\n",
      "Description    540455 non-null object\n",
      "Quantity       540455 non-null int64\n",
      "InvoiceDate    540455 non-null datetime64[ns]\n",
      "UnitPrice      540455 non-null float64\n",
      "CustomerID     406829 non-null float64\n",
      "Country        540455 non-null object\n",
      "dtypes: datetime64[ns](1), float64(2), int64(1), object(4)\n",
      "memory usage: 37.1+ MB\n"
     ]
    }
   ],
   "source": [
    "datanew.info()"
   ]
  },
  {
   "cell_type": "markdown",
   "metadata": {},
   "source": [
    "## "
   ]
  },
  {
   "cell_type": "code",
   "execution_count": 30,
   "metadata": {},
   "outputs": [],
   "source": [
    "group_InvoiceNo=datanew.groupby('InvoiceNo')\n",
    "transactions=[]\n",
    "for name,group in group_InvoiceNo:\n",
    "    transactions.append(list(group['Description'].map(str)))"
   ]
  },
  {
   "cell_type": "code",
   "execution_count": 32,
   "metadata": {},
   "outputs": [],
   "source": [
    "from apyori import apriori"
   ]
  },
  {
   "cell_type": "code",
   "execution_count": 33,
   "metadata": {},
   "outputs": [],
   "source": [
    "assrules=apriori(transactions,min_support=0.01, min_confidence=0.9, min_lift=1.1, min_length=2)\n",
    "hasil=list(assrules)"
   ]
  },
  {
   "cell_type": "code",
   "execution_count": 34,
   "metadata": {},
   "outputs": [
    {
     "data": {
      "text/html": [
       "<div>\n",
       "<style scoped>\n",
       "    .dataframe tbody tr th:only-of-type {\n",
       "        vertical-align: middle;\n",
       "    }\n",
       "\n",
       "    .dataframe tbody tr th {\n",
       "        vertical-align: top;\n",
       "    }\n",
       "\n",
       "    .dataframe thead th {\n",
       "        text-align: right;\n",
       "    }\n",
       "</style>\n",
       "<table border=\"1\" class=\"dataframe\">\n",
       "  <thead>\n",
       "    <tr style=\"text-align: right;\">\n",
       "      <th></th>\n",
       "      <th>GeneralRules</th>\n",
       "      <th>LeftRules</th>\n",
       "      <th>RightRules</th>\n",
       "      <th>Support</th>\n",
       "      <th>Confidence</th>\n",
       "      <th>Lift</th>\n",
       "    </tr>\n",
       "  </thead>\n",
       "  <tbody>\n",
       "    <tr>\n",
       "      <th>0</th>\n",
       "      <td>REGENCY TEA PLATE PINK _&amp;&amp;_ REGENCY TEA PLATE ...</td>\n",
       "      <td>REGENCY TEA PLATE PINK _&amp;&amp;_ REGENCY TEA PLATE ...</td>\n",
       "      <td>REGENCY TEA PLATE ROSES</td>\n",
       "      <td>0.010554</td>\n",
       "      <td>0.914894</td>\n",
       "      <td>48.939802</td>\n",
       "    </tr>\n",
       "    <tr>\n",
       "      <th>1</th>\n",
       "      <td>CHARLOTTE BAG SUKI DESIGN _&amp;&amp;_ STRAWBERRY CHAR...</td>\n",
       "      <td>CHARLOTTE BAG SUKI DESIGN _&amp;&amp;_ STRAWBERRY CHAR...</td>\n",
       "      <td>RED RETROSPOT CHARLOTTE BAG</td>\n",
       "      <td>0.010104</td>\n",
       "      <td>0.904762</td>\n",
       "      <td>21.064580</td>\n",
       "    </tr>\n",
       "  </tbody>\n",
       "</table>\n",
       "</div>"
      ],
      "text/plain": [
       "                                        GeneralRules  \\\n",
       "0  REGENCY TEA PLATE PINK _&&_ REGENCY TEA PLATE ...   \n",
       "1  CHARLOTTE BAG SUKI DESIGN _&&_ STRAWBERRY CHAR...   \n",
       "\n",
       "                                           LeftRules  \\\n",
       "0  REGENCY TEA PLATE PINK _&&_ REGENCY TEA PLATE ...   \n",
       "1  CHARLOTTE BAG SUKI DESIGN _&&_ STRAWBERRY CHAR...   \n",
       "\n",
       "                    RightRules   Support  Confidence       Lift  \n",
       "0     REGENCY TEA PLATE ROSES   0.010554    0.914894  48.939802  \n",
       "1  RED RETROSPOT CHARLOTTE BAG  0.010104    0.904762  21.064580  "
      ]
     },
     "execution_count": 34,
     "metadata": {},
     "output_type": "execute_result"
    }
   ],
   "source": [
    "# Visualising the result as a readeable dataframe\n",
    "final_results = pd.DataFrame(np.random.randint(low=0, high=1, size=(len(hasil), 6)), columns=['GeneralRules', 'LeftRules', 'RightRules', 'Support', 'Confidence', 'Lift'])\n",
    "index = 0\n",
    "for g, s, i in hasil:\n",
    "    final_results.iloc[index] = [' _&&_ '.join(list(g)), ' _&&_ '.join(list(i[0][0])), ' _&&_ '.join(list(i[0][1])), s, i[0][2], i[0][3]]\n",
    "    index = index+1\n",
    "# The most significant rules\n",
    "final_results1 = final_results.sort_values('Support', ascending=0)\n",
    "final_results1"
   ]
  },
  {
   "cell_type": "code",
   "execution_count": 35,
   "metadata": {},
   "outputs": [
    {
     "name": "stdout",
     "output_type": "stream",
     "text": [
      "Rule #1:\n",
      "REGENCY TEA PLATE PINK _&&_ REGENCY TEA PLATE GREEN \n",
      "=> REGENCY TEA PLATE ROSES \n",
      "Support: 0.01055387384439172 - Confidence: 0.9148936170212765 - Lift: 48.93980166674426\n",
      "--------------------\n",
      "Rule #2:\n",
      "CHARLOTTE BAG SUKI DESIGN _&&_ STRAWBERRY CHARLOTTE BAG _&&_ CHARLOTTE BAG PINK POLKADOT\n",
      "=> RED RETROSPOT CHARLOTTE BAG\n",
      "Support: 0.010103902478933158 - Confidence: 0.9047619047619047 - Lift: 21.064580498866214\n",
      "--------------------\n"
     ]
    }
   ],
   "source": [
    "count=1\n",
    "for i, d in final_results1.head(10).iterrows():\n",
    "    print('Rule #'+str(count)+':')\n",
    "    print(d['LeftRules'])\n",
    "    print('=> '+d['RightRules'])\n",
    "    print('Support: '+str(d['Support'])+' - Confidence: '+str(d['Confidence'])+' - Lift: '+str(d['Lift']))\n",
    "    print('--------------------')\n",
    "    count=count+1"
   ]
  },
  {
   "cell_type": "code",
   "execution_count": 36,
   "metadata": {},
   "outputs": [],
   "source": [
    "final_results1.to_excel(r'E:\\hasil1.xlsx')"
   ]
  },
  {
   "cell_type": "code",
   "execution_count": 37,
   "metadata": {},
   "outputs": [
    {
     "data": {
      "text/plain": [
       "573585     1114\n",
       "581219      749\n",
       "581492      731\n",
       "580729      721\n",
       "558475      705\n",
       "579777      687\n",
       "581217      676\n",
       "537434      675\n",
       "580730      662\n",
       "538071      652\n",
       "580367      650\n",
       "580115      645\n",
       "581439      635\n",
       "580983      629\n",
       "578344      622\n",
       "538349      620\n",
       "578347      606\n",
       "537638      601\n",
       "537237      597\n",
       "576617      593\n",
       "536876      593\n",
       "536592      592\n",
       "537823      591\n",
       "576837      585\n",
       "579508      578\n",
       "577078      572\n",
       "537240      568\n",
       "577358      561\n",
       "576618      552\n",
       "576840      544\n",
       "           ... \n",
       "544325        1\n",
       "563700        1\n",
       "C573549       1\n",
       "563934        1\n",
       "C561225       1\n",
       "C541689       1\n",
       "564076        1\n",
       "C539661       1\n",
       "C549788       1\n",
       "564109        1\n",
       "567487        1\n",
       "544192        1\n",
       "C552021       1\n",
       "564086        1\n",
       "564085        1\n",
       "C544429       1\n",
       "564082        1\n",
       "C570276       1\n",
       "C549723       1\n",
       "C576565       1\n",
       "564048        1\n",
       "564047        1\n",
       "564046        1\n",
       "C567357       1\n",
       "C568347       1\n",
       "563981        1\n",
       "C567903       1\n",
       "C572750       1\n",
       "C566222       1\n",
       "C542270       1\n",
       "Name: InvoiceNo, Length: 25900, dtype: int64"
      ]
     },
     "execution_count": 37,
     "metadata": {},
     "output_type": "execute_result"
    }
   ],
   "source": [
    "data[\"InvoiceNo\"].value_counts()"
   ]
  },
  {
   "cell_type": "markdown",
   "metadata": {},
   "source": [
    "> Persentase REGENCY TEA PLATE PINK, REGENCY TEA PLATE GREEN, dan REGENCY TEA PLATE ROSES dibeli secara bersamaan sebesar 1,055% dari total transaksi. \n",
    "\n",
    ">Pembelian produk REGENCY TEA PLATE PINK dan REGENCY TEA PLATE GREEN  pelanggan juga membeli produk REGENCY TEA PLATE ROSES sebesar 91,489%. \n",
    "\n",
    "> Lift lebih besar dari 1, maka pelanggan yang membeli produk REGENCY TEA PLATE PINK dan REGENCY TEA PLATE GREEN memiliki kencerungan tinggi untuk membeli produk REGENCY TEA PLATE ROSES."
   ]
  },
  {
   "cell_type": "code",
   "execution_count": null,
   "metadata": {},
   "outputs": [],
   "source": []
  },
  {
   "cell_type": "code",
   "execution_count": null,
   "metadata": {},
   "outputs": [],
   "source": []
  }
 ],
 "metadata": {
  "kernelspec": {
   "display_name": "Python 3",
   "language": "python",
   "name": "python3"
  },
  "language_info": {
   "codemirror_mode": {
    "name": "ipython",
    "version": 3
   },
   "file_extension": ".py",
   "mimetype": "text/x-python",
   "name": "python",
   "nbconvert_exporter": "python",
   "pygments_lexer": "ipython3",
   "version": "3.7.1"
  }
 },
 "nbformat": 4,
 "nbformat_minor": 2
}
